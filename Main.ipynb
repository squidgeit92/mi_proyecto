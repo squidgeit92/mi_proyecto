{
 "cells": [
  {
   "cell_type": "code",
   "execution_count": 2,
   "id": "842a6c68-8326-4455-bdd6-6cda6a4d6713",
   "metadata": {},
   "outputs": [
    {
     "name": "stdout",
     "output_type": "stream",
     "text": [
      "hola mundo\n"
     ]
    }
   ],
   "source": [
    "print (\"hola mundo\")"
   ]
  },
  {
   "cell_type": "code",
   "execution_count": 3,
   "id": "8cd5e5c1-75e6-4e33-acd6-1ed587f9f92e",
   "metadata": {},
   "outputs": [
    {
     "name": "stdout",
     "output_type": "stream",
     "text": [
      "mi nombre es Danielle\n"
     ]
    }
   ],
   "source": [
    "print (\"mi nombre es Danielle\")"
   ]
  },
  {
   "cell_type": "code",
   "execution_count": null,
   "id": "8a85c3c9-65b9-41ba-aee8-77024fffe00d",
   "metadata": {},
   "outputs": [],
   "source": []
  },
  {
   "cell_type": "code",
   "execution_count": null,
   "id": "c46f83ba-d58e-40c5-8fd3-805f25a1931f",
   "metadata": {},
   "outputs": [],
   "source": []
  }
 ],
 "metadata": {
  "kernelspec": {
   "display_name": "Python [conda env:base] *",
   "language": "python",
   "name": "conda-base-py"
  },
  "language_info": {
   "codemirror_mode": {
    "name": "ipython",
    "version": 3
   },
   "file_extension": ".py",
   "mimetype": "text/x-python",
   "name": "python",
   "nbconvert_exporter": "python",
   "pygments_lexer": "ipython3",
   "version": "3.12.7"
  }
 },
 "nbformat": 4,
 "nbformat_minor": 5
}
